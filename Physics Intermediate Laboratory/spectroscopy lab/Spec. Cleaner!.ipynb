{
 "cells": [
  {
   "cell_type": "code",
   "execution_count": 1,
   "metadata": {},
   "outputs": [],
   "source": [
    "import numpy as np\n",
    "import astropy.units as u \n",
    "import scipy.stats as st\n",
    "import pandas as pd\n",
    "\n",
    "%matplotlib inline\n",
    "import matplotlib.pyplot as plt"
   ]
  },
  {
   "cell_type": "code",
   "execution_count": 2,
   "metadata": {},
   "outputs": [],
   "source": [
    "%config InlineBackend.figure_format = 'svg'"
   ]
  },
  {
   "cell_type": "markdown",
   "metadata": {},
   "source": [
    "# Definitions & Constants"
   ]
  },
  {
   "cell_type": "code",
   "execution_count": 3,
   "metadata": {},
   "outputs": [],
   "source": [
    "def chi(o,e,δ):\n",
    "    𝛘  = np.sum(((o-e)/δ)**2)\n",
    "    return 𝛘"
   ]
  },
  {
   "cell_type": "code",
   "execution_count": 4,
   "metadata": {},
   "outputs": [],
   "source": [
    "β      = (np.pi/180.)     # Degrees to Radians conversion."
   ]
  },
  {
   "cell_type": "code",
   "execution_count": 5,
   "metadata": {},
   "outputs": [],
   "source": [
    "def grating_spacing(m,λ,θ):\n",
    "    d  = (m*λ)/(np.sin(θ*β))\n",
    "    return d"
   ]
  },
  {
   "cell_type": "code",
   "execution_count": 6,
   "metadata": {},
   "outputs": [],
   "source": [
    "def wavelength(m,dw,θ):\n",
    "    λ  = (dw*np.sin(θ*β))/m\n",
    "    return λ"
   ]
  },
  {
   "cell_type": "code",
   "execution_count": 7,
   "metadata": {},
   "outputs": [],
   "source": [
    "def sigma_alpha(Δ):\n",
    "    δα = (((1/(60))*β)**2 + (Δ*β)**2)**(1/2)\n",
    "    return δα"
   ]
  },
  {
   "cell_type": "code",
   "execution_count": 8,
   "metadata": {},
   "outputs": [],
   "source": [
    "def sigma_theta(Δ):\n",
    "    δθ = sigma_alpha(Δ)/(2**(1/2))\n",
    "    return δθ"
   ]
  },
  {
   "cell_type": "code",
   "execution_count": 9,
   "metadata": {},
   "outputs": [],
   "source": [
    "def sigma_d(m,λ,θ,δθ):\n",
    "    δd = np.abs(-(m*λ*np.cos(θ*β))/(np.sin(θ*β)**2)*(δθ))\n",
    "    return δd"
   ]
  },
  {
   "cell_type": "code",
   "execution_count": 10,
   "metadata": {},
   "outputs": [],
   "source": [
    "def sigma_lambda(m,dw,δdw,θ,δθ):\n",
    "    δλ = ((np.sin(θ*β)*δdw/m)**2 + (dw*np.cos(θ*β)*δθ/m)**2)**(1/2)\n",
    "    return δλ"
   ]
  },
  {
   "cell_type": "code",
   "execution_count": 11,
   "metadata": {},
   "outputs": [],
   "source": [
    "def sigma_rydberg(λ,δλ,energy_states):\n",
    "    δr = δλ*(λ**2*((1/np.full((8),2)**(2)) - (1/energy_states**(2))))**-1\n",
    "    return δr"
   ]
  },
  {
   "cell_type": "markdown",
   "metadata": {},
   "source": [
    "# Helium Experiment"
   ]
  },
  {
   "cell_type": "code",
   "execution_count": 12,
   "metadata": {},
   "outputs": [],
   "source": [
    "\"\"\"HeData.png\"\"\"                                                # Total of 8 entries.\n",
    "m          = np.array([1,1,1,1,1,1,2,2])\n",
    "α_1        = np.array([11.5,10,8.78,7.72,7.67,6.5,20.25,17.25])\n",
    "α_2        = np.array([11.5,10,9.2,8.5,8.2,7.22,20.33,17.42])\n",
    "λ          = np.array([668,588,501,492,447,388,588,501])        # Wavelength of photon, nanometer scale.\n",
    "\n",
    "color = ['red','yellow','green','cyan','blue','violet','yellow','green']"
   ]
  },
  {
   "cell_type": "code",
   "execution_count": 13,
   "metadata": {},
   "outputs": [],
   "source": [
    "θ       = (α_1+α_2)/2\n",
    "Δ       = (α_1-α_2)/2      # Below 10 arcminutes, ideally.\n",
    "δθ      = sigma_theta(Δ)\n",
    "\n",
    "d       = grating_spacing(m,λ,θ)\n",
    "δd      = sigma_d(m,λ,θ,δθ)\n",
    "\n",
    "# We obtain the grating spacing from Helium's values!\n",
    "w       = δd**-2\n",
    "dw      = np.sum(w*d)/np.sum(w)\n",
    "δdw     = np.sum(w)**(-1/2)"
   ]
  },
  {
   "cell_type": "code",
   "execution_count": 14,
   "metadata": {},
   "outputs": [
    {
     "data": {
      "text/plain": [
       "(3333.869320419858,\n",
       " array([  3.38742486,   3.95002136,  52.68750136, 117.90411836,\n",
       "         76.12450999, 120.09210731,   4.90550024,  11.51708972]))"
      ]
     },
     "execution_count": 14,
     "metadata": {},
     "output_type": "execute_result"
    }
   ],
   "source": [
    "np.mean(d),δd"
   ]
  },
  {
   "cell_type": "code",
   "execution_count": 15,
   "metadata": {},
   "outputs": [
    {
     "data": {
      "text/plain": [
       "(3370.4612212962534, 2.2304470785483113)"
      ]
     },
     "execution_count": 15,
     "metadata": {},
     "output_type": "execute_result"
    }
   ],
   "source": [
    "dw,δdw"
   ]
  },
  {
   "cell_type": "code",
   "execution_count": 16,
   "metadata": {},
   "outputs": [
    {
     "data": {
      "text/html": [
       "<style  type=\"text/css\" >\n",
       "    #T_b8f0e08a_dad6_11ea_9ad1_e4a7a0f6242frow0_col4 {\n",
       "            background-color:  #e8effc;\n",
       "            color:  #000000;\n",
       "        }    #T_b8f0e08a_dad6_11ea_9ad1_e4a7a0f6242frow1_col4 {\n",
       "            background-color:  #e8effc;\n",
       "            color:  #000000;\n",
       "        }    #T_b8f0e08a_dad6_11ea_9ad1_e4a7a0f6242frow2_col4 {\n",
       "            background-color:  #b0c9f6;\n",
       "            color:  #000000;\n",
       "        }    #T_b8f0e08a_dad6_11ea_9ad1_e4a7a0f6242frow3_col4 {\n",
       "            background-color:  #6696ed;\n",
       "            color:  #000000;\n",
       "        }    #T_b8f0e08a_dad6_11ea_9ad1_e4a7a0f6242frow4_col4 {\n",
       "            background-color:  #96b7f3;\n",
       "            color:  #000000;\n",
       "        }    #T_b8f0e08a_dad6_11ea_9ad1_e4a7a0f6242frow5_col4 {\n",
       "            background-color:  #6495ed;\n",
       "            color:  #000000;\n",
       "        }    #T_b8f0e08a_dad6_11ea_9ad1_e4a7a0f6242frow6_col4 {\n",
       "            background-color:  #e7eefc;\n",
       "            color:  #000000;\n",
       "        }    #T_b8f0e08a_dad6_11ea_9ad1_e4a7a0f6242frow7_col4 {\n",
       "            background-color:  #dfe9fb;\n",
       "            color:  #000000;\n",
       "        }</style><table id=\"T_b8f0e08a_dad6_11ea_9ad1_e4a7a0f6242f\" ><thead>    <tr>        <th class=\"blank level0\" ></th>        <th class=\"col_heading level0 col0\" >$m$</th>        <th class=\"col_heading level0 col1\" >$\\lambda [nm]$</th>        <th class=\"col_heading level0 col2\" >$θ$</th>        <th class=\"col_heading level0 col3\" >$d[nm]$</th>        <th class=\"col_heading level0 col4\" >$δ_d$</th>    </tr></thead><tbody>\n",
       "                <tr>\n",
       "                        <th id=\"T_b8f0e08a_dad6_11ea_9ad1_e4a7a0f6242flevel0_row0\" class=\"row_heading level0 row0\" >0</th>\n",
       "                        <td id=\"T_b8f0e08a_dad6_11ea_9ad1_e4a7a0f6242frow0_col0\" class=\"data row0 col0\" >1</td>\n",
       "                        <td id=\"T_b8f0e08a_dad6_11ea_9ad1_e4a7a0f6242frow0_col1\" class=\"data row0 col1\" >668.0</td>\n",
       "                        <td id=\"T_b8f0e08a_dad6_11ea_9ad1_e4a7a0f6242frow0_col2\" class=\"data row0 col2\" >11.50$^\\circ$</td>\n",
       "                        <td id=\"T_b8f0e08a_dad6_11ea_9ad1_e4a7a0f6242frow0_col3\" class=\"data row0 col3\" >3.35e+03</td>\n",
       "                        <td id=\"T_b8f0e08a_dad6_11ea_9ad1_e4a7a0f6242frow0_col4\" class=\"data row0 col4\" >3.39</td>\n",
       "            </tr>\n",
       "            <tr>\n",
       "                        <th id=\"T_b8f0e08a_dad6_11ea_9ad1_e4a7a0f6242flevel0_row1\" class=\"row_heading level0 row1\" >1</th>\n",
       "                        <td id=\"T_b8f0e08a_dad6_11ea_9ad1_e4a7a0f6242frow1_col0\" class=\"data row1 col0\" >1</td>\n",
       "                        <td id=\"T_b8f0e08a_dad6_11ea_9ad1_e4a7a0f6242frow1_col1\" class=\"data row1 col1\" >588.0</td>\n",
       "                        <td id=\"T_b8f0e08a_dad6_11ea_9ad1_e4a7a0f6242frow1_col2\" class=\"data row1 col2\" >10.00$^\\circ$</td>\n",
       "                        <td id=\"T_b8f0e08a_dad6_11ea_9ad1_e4a7a0f6242frow1_col3\" class=\"data row1 col3\" >3.39e+03</td>\n",
       "                        <td id=\"T_b8f0e08a_dad6_11ea_9ad1_e4a7a0f6242frow1_col4\" class=\"data row1 col4\" >3.95</td>\n",
       "            </tr>\n",
       "            <tr>\n",
       "                        <th id=\"T_b8f0e08a_dad6_11ea_9ad1_e4a7a0f6242flevel0_row2\" class=\"row_heading level0 row2\" >2</th>\n",
       "                        <td id=\"T_b8f0e08a_dad6_11ea_9ad1_e4a7a0f6242frow2_col0\" class=\"data row2 col0\" >1</td>\n",
       "                        <td id=\"T_b8f0e08a_dad6_11ea_9ad1_e4a7a0f6242frow2_col1\" class=\"data row2 col1\" >501.0</td>\n",
       "                        <td id=\"T_b8f0e08a_dad6_11ea_9ad1_e4a7a0f6242frow2_col2\" class=\"data row2 col2\" >8.99$^\\circ$</td>\n",
       "                        <td id=\"T_b8f0e08a_dad6_11ea_9ad1_e4a7a0f6242frow2_col3\" class=\"data row2 col3\" >3.21e+03</td>\n",
       "                        <td id=\"T_b8f0e08a_dad6_11ea_9ad1_e4a7a0f6242frow2_col4\" class=\"data row2 col4\" >52.7</td>\n",
       "            </tr>\n",
       "            <tr>\n",
       "                        <th id=\"T_b8f0e08a_dad6_11ea_9ad1_e4a7a0f6242flevel0_row3\" class=\"row_heading level0 row3\" >3</th>\n",
       "                        <td id=\"T_b8f0e08a_dad6_11ea_9ad1_e4a7a0f6242frow3_col0\" class=\"data row3 col0\" >1</td>\n",
       "                        <td id=\"T_b8f0e08a_dad6_11ea_9ad1_e4a7a0f6242frow3_col1\" class=\"data row3 col1\" >492.0</td>\n",
       "                        <td id=\"T_b8f0e08a_dad6_11ea_9ad1_e4a7a0f6242frow3_col2\" class=\"data row3 col2\" >8.11$^\\circ$</td>\n",
       "                        <td id=\"T_b8f0e08a_dad6_11ea_9ad1_e4a7a0f6242frow3_col3\" class=\"data row3 col3\" >3.49e+03</td>\n",
       "                        <td id=\"T_b8f0e08a_dad6_11ea_9ad1_e4a7a0f6242frow3_col4\" class=\"data row3 col4\" >118</td>\n",
       "            </tr>\n",
       "            <tr>\n",
       "                        <th id=\"T_b8f0e08a_dad6_11ea_9ad1_e4a7a0f6242flevel0_row4\" class=\"row_heading level0 row4\" >4</th>\n",
       "                        <td id=\"T_b8f0e08a_dad6_11ea_9ad1_e4a7a0f6242frow4_col0\" class=\"data row4 col0\" >1</td>\n",
       "                        <td id=\"T_b8f0e08a_dad6_11ea_9ad1_e4a7a0f6242frow4_col1\" class=\"data row4 col1\" >447.0</td>\n",
       "                        <td id=\"T_b8f0e08a_dad6_11ea_9ad1_e4a7a0f6242frow4_col2\" class=\"data row4 col2\" >7.93$^\\circ$</td>\n",
       "                        <td id=\"T_b8f0e08a_dad6_11ea_9ad1_e4a7a0f6242frow4_col3\" class=\"data row4 col3\" >3.24e+03</td>\n",
       "                        <td id=\"T_b8f0e08a_dad6_11ea_9ad1_e4a7a0f6242frow4_col4\" class=\"data row4 col4\" >76.1</td>\n",
       "            </tr>\n",
       "            <tr>\n",
       "                        <th id=\"T_b8f0e08a_dad6_11ea_9ad1_e4a7a0f6242flevel0_row5\" class=\"row_heading level0 row5\" >5</th>\n",
       "                        <td id=\"T_b8f0e08a_dad6_11ea_9ad1_e4a7a0f6242frow5_col0\" class=\"data row5 col0\" >1</td>\n",
       "                        <td id=\"T_b8f0e08a_dad6_11ea_9ad1_e4a7a0f6242frow5_col1\" class=\"data row5 col1\" >388.0</td>\n",
       "                        <td id=\"T_b8f0e08a_dad6_11ea_9ad1_e4a7a0f6242frow5_col2\" class=\"data row5 col2\" >6.86$^\\circ$</td>\n",
       "                        <td id=\"T_b8f0e08a_dad6_11ea_9ad1_e4a7a0f6242frow5_col3\" class=\"data row5 col3\" >3.25e+03</td>\n",
       "                        <td id=\"T_b8f0e08a_dad6_11ea_9ad1_e4a7a0f6242frow5_col4\" class=\"data row5 col4\" >120</td>\n",
       "            </tr>\n",
       "            <tr>\n",
       "                        <th id=\"T_b8f0e08a_dad6_11ea_9ad1_e4a7a0f6242flevel0_row6\" class=\"row_heading level0 row6\" >6</th>\n",
       "                        <td id=\"T_b8f0e08a_dad6_11ea_9ad1_e4a7a0f6242frow6_col0\" class=\"data row6 col0\" >2</td>\n",
       "                        <td id=\"T_b8f0e08a_dad6_11ea_9ad1_e4a7a0f6242frow6_col1\" class=\"data row6 col1\" >588.0</td>\n",
       "                        <td id=\"T_b8f0e08a_dad6_11ea_9ad1_e4a7a0f6242frow6_col2\" class=\"data row6 col2\" >20.29$^\\circ$</td>\n",
       "                        <td id=\"T_b8f0e08a_dad6_11ea_9ad1_e4a7a0f6242frow6_col3\" class=\"data row6 col3\" >3.39e+03</td>\n",
       "                        <td id=\"T_b8f0e08a_dad6_11ea_9ad1_e4a7a0f6242frow6_col4\" class=\"data row6 col4\" >4.91</td>\n",
       "            </tr>\n",
       "            <tr>\n",
       "                        <th id=\"T_b8f0e08a_dad6_11ea_9ad1_e4a7a0f6242flevel0_row7\" class=\"row_heading level0 row7\" >7</th>\n",
       "                        <td id=\"T_b8f0e08a_dad6_11ea_9ad1_e4a7a0f6242frow7_col0\" class=\"data row7 col0\" >2</td>\n",
       "                        <td id=\"T_b8f0e08a_dad6_11ea_9ad1_e4a7a0f6242frow7_col1\" class=\"data row7 col1\" >501.0</td>\n",
       "                        <td id=\"T_b8f0e08a_dad6_11ea_9ad1_e4a7a0f6242frow7_col2\" class=\"data row7 col2\" >17.34$^\\circ$</td>\n",
       "                        <td id=\"T_b8f0e08a_dad6_11ea_9ad1_e4a7a0f6242frow7_col3\" class=\"data row7 col3\" >3.36e+03</td>\n",
       "                        <td id=\"T_b8f0e08a_dad6_11ea_9ad1_e4a7a0f6242frow7_col4\" class=\"data row7 col4\" >11.5</td>\n",
       "            </tr>\n",
       "    </tbody></table>"
      ],
      "text/plain": [
       "<pandas.io.formats.style.Styler at 0x1b3a7296e88>"
      ]
     },
     "execution_count": 16,
     "metadata": {},
     "output_type": "execute_result"
    }
   ],
   "source": [
    "data = {'$m$':m,'$\\lambda [nm]$':λ,'$θ$':θ,'$d[nm]$':d,'$δ_d$':δd}\n",
    "table = pd.DataFrame(data)\n",
    "\n",
    "import seaborn as sns\n",
    "cm = sns.light_palette(\"cornflowerblue\", as_cmap=True)\n",
    "s = table.style\\\n",
    "  .set_precision(2)\\\n",
    "  .format({'$m$': \"{:.0f}\", '$\\lambda [nm]$': \"{:.1f}\",\n",
    "                     '$θ$':\"{:.2f}$^\\circ$\",'$d[nm]$':\"{:.3g}\",'$δ_d$':\"{:.3g}\"})\\\n",
    "  .background_gradient(cmap=cm,axis=0, subset='$δ_d$')\n",
    "\n",
    "s"
   ]
  },
  {
   "cell_type": "code",
   "execution_count": 18,
   "metadata": {},
   "outputs": [
    {
     "data": {
      "text/html": [
       "<style  type=\"text/css\" >\n",
       "</style><table id=\"T_bef7d7be_dad6_11ea_ae54_e4a7a0f6242f\" ><thead>    <tr>        <th class=\"blank level0\" ></th>        <th class=\"col_heading level0 col0\" >$d_w[nm]$</th>        <th class=\"col_heading level0 col1\" >$δ_{d_w}$</th>    </tr></thead><tbody>\n",
       "                <tr>\n",
       "                        <th id=\"T_bef7d7be_dad6_11ea_ae54_e4a7a0f6242flevel0_row0\" class=\"row_heading level0 row0\" >Weighted Average</th>\n",
       "                        <td id=\"T_bef7d7be_dad6_11ea_ae54_e4a7a0f6242frow0_col0\" class=\"data row0 col0\" >3.37e+03</td>\n",
       "                        <td id=\"T_bef7d7be_dad6_11ea_ae54_e4a7a0f6242frow0_col1\" class=\"data row0 col1\" >2.23</td>\n",
       "            </tr>\n",
       "    </tbody></table>"
      ],
      "text/plain": [
       "<pandas.io.formats.style.Styler at 0x1b3a8f45d08>"
      ]
     },
     "execution_count": 18,
     "metadata": {},
     "output_type": "execute_result"
    }
   ],
   "source": [
    "data = {'$d_w[nm]$':[dw],'$δ_{d_w}$':[δdw]}\n",
    "table = pd.DataFrame(data)\n",
    "s=table\\\n",
    "  .rename(index={0:'Weighted Average'})\\\n",
    "  .style.format({'$d_w[nm]$':\"{:.3g}\",'$δ_{d_w}$':\"{:.3g}\"})\n",
    "s\n"
   ]
  },
  {
   "cell_type": "markdown",
   "metadata": {},
   "source": [
    "# Hydrogen Experiment"
   ]
  },
  {
   "cell_type": "code",
   "execution_count": null,
   "metadata": {},
   "outputs": [],
   "source": [
    "\"\"\"HData.png\"\"\"                                         # Total of 8 entries.\n",
    "m     = np.array([3,3,2,2,2,1,1,1])                     # m, integer energy level.\n",
    "α_1   = np.array([36,25.67,23,16.67,15,11.25,8.33,7.5]) # alpha_1, first angle in degrees.\n",
    "α_2   = np.array([36,25.5,22.75,16.67,14.77,11,8,7.33]) # alpha_2, second angle in degrees.\n",
    "\n",
    "color = ['red','cyan','red','cyan','violet','red','cyan','violet']"
   ]
  },
  {
   "cell_type": "code",
   "execution_count": null,
   "metadata": {},
   "outputs": [],
   "source": [
    "θ     = (α_1+α_2)/2\n",
    "Δ     = (α_1-α_2)/2                      # Below 10 arcminutes, ideally.\n",
    "δθ    = sigma_theta(Δ)\n",
    "\n",
    "λ     = wavelength(m,dw,θ)               # We obtain the wavelengths for Hydrogen!\n",
    "δλ    = sigma_lambda(m,dw,δdw,θ,δθ)"
   ]
  },
  {
   "cell_type": "code",
   "execution_count": null,
   "metadata": {},
   "outputs": [],
   "source": [
    "energy_states = np.array([3,4,3,4,5,3,4,5]) # We assign, based on known wavelengths for Balmer Series jumps.\n",
    "expected      = np.array([656,486,656,486,434,656,486,434])"
   ]
  },
  {
   "cell_type": "code",
   "execution_count": null,
   "metadata": {},
   "outputs": [],
   "source": [
    "errλ    = (λ - expected)\n",
    "errλ                                        # [1,2,7] indices have lowest error values.\n",
    "indices = [0,1,2,3,4,5,6,7]"
   ]
  },
  {
   "cell_type": "code",
   "execution_count": null,
   "metadata": {},
   "outputs": [],
   "source": [
    "data = {'$λ[nm]$':λ,'$δ_λ$':δλ,'$n_i$':energy_states,'$δ_{balmer}[nm]$':np.abs(errλ)}\n",
    "table = pd.DataFrame(data)\n",
    "cm = sns.light_palette(\"hotpink\", as_cmap=True)\n",
    "s = table.style\\\n",
    "  .set_precision(2)\\\n",
    "  .format({'$λ[nm]$': \"{:.1f}\", '$δ_λ$': \"{:.2f}\",\n",
    "                     '$n_2$':\"{:.0f}\",'$δ_{balmer}[nm]$':\"{:.2f}\"})\\\n",
    "  .background_gradient(cmap=cm,axis=0, subset=['$δ_λ$'])\\\n",
    "  .background_gradient(cmap=cm,axis=0, subset=['$δ_{balmer}[nm]$'])\n",
    "s"
   ]
  },
  {
   "cell_type": "code",
   "execution_count": null,
   "metadata": {},
   "outputs": [],
   "source": [
    "def rydberg(λ,n_2,n_1):\n",
    "    RYDBERG = (λ*((1/n_2**(2))-(1/n_1**(2))))**-1\n",
    "    return np.take(RYDBERG, indices)"
   ]
  },
  {
   "cell_type": "code",
   "execution_count": null,
   "metadata": {},
   "outputs": [],
   "source": [
    "λ,δλ"
   ]
  },
  {
   "cell_type": "code",
   "execution_count": null,
   "metadata": {},
   "outputs": [],
   "source": [
    "r       = rydberg(λ, n_2 = np.full((8),2), n_1=energy_states)\n",
    "δr      = sigma_rydberg(λ,δλ,energy_states)"
   ]
  },
  {
   "cell_type": "code",
   "execution_count": null,
   "metadata": {},
   "outputs": [],
   "source": [
    "w       = np.take(δr, indices)**-2\n",
    "rw      = np.array(np.sum(w*r)/np.sum(w))\n",
    "δrw     = np.array(np.sum(w)**(-1/2))"
   ]
  },
  {
   "cell_type": "code",
   "execution_count": null,
   "metadata": {},
   "outputs": [],
   "source": [
    "\"{:.5e}\".format(rw*10**9)"
   ]
  },
  {
   "cell_type": "code",
   "execution_count": null,
   "metadata": {},
   "outputs": [],
   "source": [
    "\"{:.5e}\".format(δrw*10**9)"
   ]
  },
  {
   "cell_type": "code",
   "execution_count": null,
   "metadata": {},
   "outputs": [],
   "source": [
    "RYDBERG = np.array([10967758*10**-9])\n",
    "chi1 = chi(rw,RYDBERG,δrw)"
   ]
  },
  {
   "cell_type": "code",
   "execution_count": null,
   "metadata": {},
   "outputs": [],
   "source": [
    "r,δr"
   ]
  },
  {
   "cell_type": "code",
   "execution_count": null,
   "metadata": {},
   "outputs": [],
   "source": [
    "data = {'$R_H[m^{-1}]$':r*10**9,'$δ_{R_H}$':np.take(δr,indices)*10**9}\n",
    "table = pd.DataFrame(data)\n",
    "\n",
    "cm = sns.light_palette(\"hotpink\", as_cmap=True)\n",
    "s = table.style\\\n",
    "  .set_precision(2)\\\n",
    "  .format({'$R_H[m^{-1}]$': \"{:.4e}\", '$δ_{R_H}$': \"{:.2e}\"})\\\n",
    "  .background_gradient(cmap=cm,axis=0, subset=['$δ_{R_H}$'])\n",
    "s"
   ]
  },
  {
   "cell_type": "code",
   "execution_count": null,
   "metadata": {},
   "outputs": [],
   "source": [
    "indices = [1,2,4,7]\n",
    "\n",
    "r       = rydberg(λ, n_2 = np.full((8),2), n_1=energy_states)\n",
    "δr      = sigma_rydberg(λ,δλ,energy_states)\n",
    "\n",
    "w       = np.take(δr, indices)**-2\n",
    "rw      = np.append(rw,(np.sum(w*r)/np.sum(w)))\n",
    "δrw     = np.append(δrw,(np.sum(w)**(-1/2)))\n",
    "\n",
    "chi2    = chi((np.sum(w*r)/np.sum(w)),RYDBERG,(np.sum(w)**(-1/2)))\n",
    "chi     = np.append(chi1,chi2)"
   ]
  },
  {
   "cell_type": "code",
   "execution_count": null,
   "metadata": {},
   "outputs": [],
   "source": [
    "chi,rw,δrw"
   ]
  },
  {
   "cell_type": "code",
   "execution_count": null,
   "metadata": {},
   "outputs": [],
   "source": [
    "data = {'$R_{H_w}[m^{-1}]$':rw*10**9,'$δ_{R_{H_w}}$':δrw*10**9,'$\\\\tilde{\\chi}^2$':chi}\n",
    "table = pd.DataFrame(data)\n",
    "s = table\\\n",
    "  .rename(index={0:'$[:]$ Weighted Average',1:'$[1,2,4,7]$ Weighted Average'})\\\n",
    "  .style.format({'$R_{H_w}[m^{-1}]$':\"{:.4e}\",'$δ_{R_{H_w}}$':\"{:.2e}\",'$\\\\tilde{\\chi}^2$':\"{:.3g}\"})\n",
    "s"
   ]
  },
  {
   "cell_type": "markdown",
   "metadata": {},
   "source": [
    "# Helium-Neon LASER"
   ]
  },
  {
   "cell_type": "code",
   "execution_count": null,
   "metadata": {},
   "outputs": [],
   "source": [
    "\"\"\"HeNeData.png\"\"\"                            # Total of 3 entries.\n",
    "m          = np.array([1,2,3])\n",
    "α_1        = np.array([10.5,22,33.5])\n",
    "α_2        = np.array([11,22.5,34.17])\n",
    "θ          = np.array([10.75,22.25,33.84])\n",
    "λ          = np.array([628.06,637.49,624.96])\n",
    "\n",
    "color = ['red','red','red']"
   ]
  },
  {
   "cell_type": "code",
   "execution_count": null,
   "metadata": {},
   "outputs": [],
   "source": [
    "θ     = (α_1+α_2)/2\n",
    "Δ     = (α_1-α_2)/2                      # Below 10 arcminutes, ideally.\n",
    "δθ    = sigma_theta(Δ)\n",
    "\n",
    "λ     = wavelength(m,dw,θ)\n",
    "δλ    = sigma_lambda(m,dw,δdw,θ,δθ)\n",
    "\n",
    "# We calculate the weighted average for LASER wavelength.\n",
    "w       = δλ**-2\n",
    "λw      = np.sum(w*λ)/np.sum(w)\n",
    "δλw     = np.sum(w)**(-1/2)"
   ]
  },
  {
   "cell_type": "code",
   "execution_count": null,
   "metadata": {},
   "outputs": [],
   "source": [
    "λ,δλ"
   ]
  },
  {
   "cell_type": "code",
   "execution_count": null,
   "metadata": {},
   "outputs": [],
   "source": [
    "data = {'$λ[nm]$':λ,'$δ_λ$':δλ}\n",
    "table = pd.DataFrame(data)\n",
    "\n",
    "cm = sns.light_palette(\"red\", as_cmap=True)\n",
    "s = table.style\\\n",
    "  .format({'$λ[nm]$': \"{:.4g}\", '$δ_λ$': \"{:.3g}\"})\\\n",
    "  .background_gradient(cmap=cm,axis=0, subset=['$δ_λ$'])\n",
    "#   .set_caption(\"Calculated He-Ne LASER Wavelengths\")\n",
    "s"
   ]
  },
  {
   "cell_type": "code",
   "execution_count": null,
   "metadata": {},
   "outputs": [],
   "source": [
    "λw,δλw"
   ]
  },
  {
   "cell_type": "code",
   "execution_count": null,
   "metadata": {},
   "outputs": [],
   "source": [
    "data = {'$λ_w[nm]$':[λw],'$δ_{λ_w}$':[δλw]}\n",
    "table = pd.DataFrame(data)\n",
    "s = table\\\n",
    "  .rename(index={0:'Weighted Average'})\\\n",
    "  .style.format({'$λ_w[nm]$':\"{:.4g}\",'$δ_{λ_w}$':\"{:.3g}\"})\n",
    "#   .set_caption(\"Average Wavelength of He-Ne LASER\")\n",
    "s"
   ]
  },
  {
   "cell_type": "code",
   "execution_count": null,
   "metadata": {},
   "outputs": [],
   "source": []
  }
 ],
 "metadata": {
  "kernelspec": {
   "display_name": "Python 3",
   "language": "python",
   "name": "python3"
  },
  "language_info": {
   "codemirror_mode": {
    "name": "ipython",
    "version": 3
   },
   "file_extension": ".py",
   "mimetype": "text/x-python",
   "name": "python",
   "nbconvert_exporter": "python",
   "pygments_lexer": "ipython3",
   "version": "3.7.7"
  }
 },
 "nbformat": 4,
 "nbformat_minor": 4
}
